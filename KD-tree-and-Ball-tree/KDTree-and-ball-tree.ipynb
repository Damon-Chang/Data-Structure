{
 "cells": [
  {
   "cell_type": "markdown",
   "id": "bc11be44",
   "metadata": {},
   "source": [
    "# 使用sklearn中自带的KDTree实现KD树最近邻搜索"
   ]
  },
  {
   "cell_type": "code",
   "execution_count": 2,
   "id": "64a4883f",
   "metadata": {},
   "outputs": [],
   "source": [
    "from sklearn import datasets\n",
    "from sklearn.neighbors import KDTree, KNeighborsClassifier, KNeighborsTransformer\n",
    "import pandas as pd\n",
    "import numpy as np\n",
    "import matplotlib.pyplot as plt"
   ]
  },
  {
   "cell_type": "markdown",
   "id": "f4aace6b",
   "metadata": {},
   "source": [
    "#### 加载数据集"
   ]
  },
  {
   "cell_type": "code",
   "execution_count": 3,
   "id": "9c4db5d3",
   "metadata": {},
   "outputs": [],
   "source": [
    "dataSet = pd.read_excel(r'D:\\a学业信计\\a研究生\\数据集\\西瓜书\\watermelon4.0.xlsx')\n",
    "data = dataSet.values\n",
    "labels = dataSet.columns.values\n",
    "indexs = dataSet.index.values"
   ]
  },
  {
   "cell_type": "code",
   "execution_count": 5,
   "id": "50a9ecea",
   "metadata": {},
   "outputs": [],
   "source": [
    "from sklearn import datasets"
   ]
  },
  {
   "cell_type": "code",
   "execution_count": 6,
   "id": "d407f5a3",
   "metadata": {},
   "outputs": [],
   "source": [
    "X, y = datasets.load_iris(return_X_y=True)"
   ]
  },
  {
   "cell_type": "code",
   "execution_count": 10,
   "id": "d9268b35",
   "metadata": {},
   "outputs": [],
   "source": [
    "tree = KDTree(X)"
   ]
  },
  {
   "cell_type": "code",
   "execution_count": 13,
   "id": "a60cc084",
   "metadata": {},
   "outputs": [],
   "source": [
    "dist_to_knn, idx_of_knn = tree.query(X = X[[3]], k = 5)"
   ]
  },
  {
   "cell_type": "code",
   "execution_count": 22,
   "id": "ae322917",
   "metadata": {},
   "outputs": [
    {
     "data": {
      "text/plain": [
       "array([[4.6, 3.1, 1.5, 0.2]])"
      ]
     },
     "execution_count": 22,
     "metadata": {},
     "output_type": "execute_result"
    }
   ],
   "source": [
    "X[[3]]"
   ]
  },
  {
   "cell_type": "code",
   "execution_count": 14,
   "id": "6f786a39",
   "metadata": {},
   "outputs": [
    {
     "name": "stdout",
     "output_type": "stream",
     "text": [
      "[[0.         0.14142136 0.17320508 0.2236068  0.24494897]]\n"
     ]
    }
   ],
   "source": [
    "print(dist_to_knn)"
   ]
  },
  {
   "cell_type": "code",
   "execution_count": 16,
   "id": "3508ab67",
   "metadata": {},
   "outputs": [
    {
     "data": {
      "text/plain": [
       "array([[[4.6, 3.1, 1.5, 0.2],\n",
       "        [4.6, 3.2, 1.4, 0.2],\n",
       "        [4.7, 3.2, 1.6, 0.2],\n",
       "        [4.8, 3.1, 1.6, 0.2],\n",
       "        [4.7, 3.2, 1.3, 0.2]]])"
      ]
     },
     "execution_count": 16,
     "metadata": {},
     "output_type": "execute_result"
    }
   ],
   "source": [
    "X[idx_of_knn]"
   ]
  },
  {
   "cell_type": "code",
   "execution_count": 18,
   "id": "68fa18c1",
   "metadata": {},
   "outputs": [],
   "source": [
    "tree_1 = KDTree(data)"
   ]
  },
  {
   "cell_type": "code",
   "execution_count": 23,
   "id": "b82e4a70",
   "metadata": {},
   "outputs": [
    {
     "data": {
      "text/plain": [
       "array([[0.403, 0.237]])"
      ]
     },
     "execution_count": 23,
     "metadata": {},
     "output_type": "execute_result"
    }
   ],
   "source": [
    "data[[1]]"
   ]
  },
  {
   "cell_type": "code",
   "execution_count": 24,
   "id": "51d1c4e1",
   "metadata": {},
   "outputs": [],
   "source": [
    "dist, index = tree_1.query(data[[1]], k = 3)"
   ]
  },
  {
   "cell_type": "code",
   "execution_count": 25,
   "id": "9f1a8ef2",
   "metadata": {},
   "outputs": [
    {
     "name": "stdout",
     "output_type": "stream",
     "text": [
      "[[0.         0.04280187 0.06412488]] [[ 1 13 21]]\n"
     ]
    }
   ],
   "source": [
    "print(dist, index)"
   ]
  },
  {
   "cell_type": "code",
   "execution_count": 26,
   "id": "4a5309a7",
   "metadata": {},
   "outputs": [
    {
     "data": {
      "text/plain": [
       "array([[[0.403, 0.237],\n",
       "        [0.437, 0.211],\n",
       "        [0.339, 0.241]]])"
      ]
     },
     "execution_count": 26,
     "metadata": {},
     "output_type": "execute_result"
    }
   ],
   "source": [
    "data[index]"
   ]
  },
  {
   "cell_type": "markdown",
   "id": "f5270d83",
   "metadata": {},
   "source": [
    "# 使用sklearn中自带的BallTree实现检索"
   ]
  },
  {
   "cell_type": "code",
   "execution_count": 28,
   "id": "9b57288e",
   "metadata": {},
   "outputs": [],
   "source": [
    "from sklearn.neighbors import BallTree"
   ]
  },
  {
   "cell_type": "code",
   "execution_count": 29,
   "id": "04d3613c",
   "metadata": {},
   "outputs": [],
   "source": [
    "tree_2 = BallTree(data)"
   ]
  },
  {
   "cell_type": "code",
   "execution_count": 30,
   "id": "55827160",
   "metadata": {},
   "outputs": [
    {
     "data": {
      "text/plain": [
       "array([[0.403, 0.237]])"
      ]
     },
     "execution_count": 30,
     "metadata": {},
     "output_type": "execute_result"
    }
   ],
   "source": [
    "data[[1]]"
   ]
  },
  {
   "cell_type": "code",
   "execution_count": 32,
   "id": "b268c69b",
   "metadata": {},
   "outputs": [],
   "source": [
    "dist_2, index_2 = tree_2.query(data[[1]], k = 3)"
   ]
  },
  {
   "cell_type": "code",
   "execution_count": null,
   "id": "7e7f491d",
   "metadata": {},
   "outputs": [],
   "source": [
    "print(dist)"
   ]
  }
 ],
 "metadata": {
  "kernelspec": {
   "display_name": "Python 3 (ipykernel)",
   "language": "python",
   "name": "python3"
  },
  "language_info": {
   "codemirror_mode": {
    "name": "ipython",
    "version": 3
   },
   "file_extension": ".py",
   "mimetype": "text/x-python",
   "name": "python",
   "nbconvert_exporter": "python",
   "pygments_lexer": "ipython3",
   "version": "3.8.13"
  }
 },
 "nbformat": 4,
 "nbformat_minor": 5
}
